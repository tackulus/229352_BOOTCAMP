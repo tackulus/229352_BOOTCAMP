{
  "nbformat": 4,
  "nbformat_minor": 0,
  "metadata": {
    "colab": {
      "name": "Preprocessing.ipynb",
      "provenance": [],
      "collapsed_sections": [],
      "authorship_tag": "ABX9TyPTBZ2OncbXXTi4GWvoSml9",
      "include_colab_link": true
    },
    "kernelspec": {
      "name": "python3",
      "display_name": "Python 3"
    },
    "language_info": {
      "name": "python"
    }
  },
  "cells": [
    {
      "cell_type": "markdown",
      "metadata": {
        "id": "view-in-github",
        "colab_type": "text"
      },
      "source": [
        "<a href=\"https://colab.research.google.com/github/tackulus/229352_BOOTCAMP/blob/main/Preprocessing.ipynb\" target=\"_parent\"><img src=\"https://colab.research.google.com/assets/colab-badge.svg\" alt=\"Open In Colab\"/></a>"
      ]
    },
    {
      "cell_type": "code",
      "metadata": {
        "id": "TZ0-2fB0QIiB"
      },
      "source": [
        "import numpy as np\n",
        "import pandas as pd\n",
        "import matplotlib.pyplot as plt\n",
        "import seaborn as sns\n",
        "\n",
        "from scipy.stats import normaltest"
      ],
      "execution_count": 1,
      "outputs": []
    },
    {
      "cell_type": "code",
      "metadata": {
        "colab": {
          "base_uri": "https://localhost:8080/"
        },
        "id": "guLcZm-yw_Oo",
        "outputId": "2bb1c6a7-76a9-4950-f62a-3636a3424d71"
      },
      "source": [
        "!git clone https://github.com/tackulus/229352_BOOTCAMP.git"
      ],
      "execution_count": 2,
      "outputs": [
        {
          "output_type": "stream",
          "name": "stdout",
          "text": [
            "Cloning into '229352_BOOTCAMP'...\n",
            "remote: Enumerating objects: 21, done.\u001b[K\n",
            "remote: Counting objects: 100% (21/21), done.\u001b[K\n",
            "remote: Compressing objects: 100% (19/19), done.\u001b[K\n",
            "remote: Total 21 (delta 7), reused 0 (delta 0), pack-reused 0\u001b[K\n",
            "Unpacking objects: 100% (21/21), done.\n"
          ]
        }
      ]
    },
    {
      "cell_type": "code",
      "metadata": {
        "colab": {
          "base_uri": "https://localhost:8080/",
          "height": 233
        },
        "id": "kYb4VwmKxRVG",
        "outputId": "89fac467-62ba-403b-dc89-ff46c1333a0b"
      },
      "source": [
        "data01 = pd.read_csv('/content/229352_BOOTCAMP/DATA/data01.csv', index_col=0)\n",
        "data02 = pd.read_csv('/content/229352_BOOTCAMP/DATA/data02.csv', index_col=0)\n",
        "data = pd.concat([data01, data02])\n",
        "data.head(3)"
      ],
      "execution_count": 3,
      "outputs": [
        {
          "output_type": "execute_result",
          "data": {
            "text/html": [
              "<div>\n",
              "<style scoped>\n",
              "    .dataframe tbody tr th:only-of-type {\n",
              "        vertical-align: middle;\n",
              "    }\n",
              "\n",
              "    .dataframe tbody tr th {\n",
              "        vertical-align: top;\n",
              "    }\n",
              "\n",
              "    .dataframe thead th {\n",
              "        text-align: right;\n",
              "    }\n",
              "</style>\n",
              "<table border=\"1\" class=\"dataframe\">\n",
              "  <thead>\n",
              "    <tr style=\"text-align: right;\">\n",
              "      <th></th>\n",
              "      <th>year</th>\n",
              "      <th>month</th>\n",
              "      <th>day</th>\n",
              "      <th>maximum temperature(C)</th>\n",
              "      <th>minimum temperature(C)</th>\n",
              "      <th>dry temperature(C)</th>\n",
              "      <th>relative humidity(%)</th>\n",
              "      <th>maximum wind direction(Deg.)</th>\n",
              "      <th>maximum wind speed(Kts.)</th>\n",
              "      <th>wind above the tray(Km.)</th>\n",
              "      <th>water evaporation tray(mm.)</th>\n",
              "      <th>precipitation(mm.)</th>\n",
              "      <th>station</th>\n",
              "      <th>super low temperature grass(C)</th>\n",
              "      <th>The maximum surface temperature of the water(C)</th>\n",
              "      <th>Minimum surface temperature of the water(C)</th>\n",
              "      <th>average temperature(C)</th>\n",
              "    </tr>\n",
              "  </thead>\n",
              "  <tbody>\n",
              "    <tr>\n",
              "      <th>0</th>\n",
              "      <td>1993</td>\n",
              "      <td>1</td>\n",
              "      <td>1</td>\n",
              "      <td>30.3</td>\n",
              "      <td>18.0</td>\n",
              "      <td>22.8</td>\n",
              "      <td>81.0</td>\n",
              "      <td>240.0</td>\n",
              "      <td>5.0</td>\n",
              "      <td>30.0</td>\n",
              "      <td>1.3</td>\n",
              "      <td>0.0</td>\n",
              "      <td>BhumibolDam</td>\n",
              "      <td>NaN</td>\n",
              "      <td>NaN</td>\n",
              "      <td>NaN</td>\n",
              "      <td>NaN</td>\n",
              "    </tr>\n",
              "    <tr>\n",
              "      <th>1</th>\n",
              "      <td>1993</td>\n",
              "      <td>1</td>\n",
              "      <td>2</td>\n",
              "      <td>30.5</td>\n",
              "      <td>18.9</td>\n",
              "      <td>23.6</td>\n",
              "      <td>79.0</td>\n",
              "      <td>90.0</td>\n",
              "      <td>8.0</td>\n",
              "      <td>31.0</td>\n",
              "      <td>4.9</td>\n",
              "      <td>0.0</td>\n",
              "      <td>BhumibolDam</td>\n",
              "      <td>NaN</td>\n",
              "      <td>NaN</td>\n",
              "      <td>NaN</td>\n",
              "      <td>NaN</td>\n",
              "    </tr>\n",
              "    <tr>\n",
              "      <th>2</th>\n",
              "      <td>1993</td>\n",
              "      <td>1</td>\n",
              "      <td>3</td>\n",
              "      <td>31.7</td>\n",
              "      <td>18.9</td>\n",
              "      <td>23.9</td>\n",
              "      <td>74.0</td>\n",
              "      <td>270.0</td>\n",
              "      <td>6.0</td>\n",
              "      <td>32.0</td>\n",
              "      <td>2.6</td>\n",
              "      <td>0.0</td>\n",
              "      <td>BhumibolDam</td>\n",
              "      <td>NaN</td>\n",
              "      <td>NaN</td>\n",
              "      <td>NaN</td>\n",
              "      <td>NaN</td>\n",
              "    </tr>\n",
              "  </tbody>\n",
              "</table>\n",
              "</div>"
            ],
            "text/plain": [
              "   year  ...  average temperature(C)\n",
              "0  1993  ...                     NaN\n",
              "1  1993  ...                     NaN\n",
              "2  1993  ...                     NaN\n",
              "\n",
              "[3 rows x 17 columns]"
            ]
          },
          "metadata": {},
          "execution_count": 3
        }
      ]
    },
    {
      "cell_type": "code",
      "metadata": {
        "colab": {
          "base_uri": "https://localhost:8080/"
        },
        "id": "fQR8XyvuHMYt",
        "outputId": "17d66696-963f-4ab8-dd0a-de91a7562811"
      },
      "source": [
        "drop_ratio = data.isna().sum() / len(data)\n",
        "drop_ratio[drop_ratio < 0.2]"
      ],
      "execution_count": 8,
      "outputs": [
        {
          "output_type": "execute_result",
          "data": {
            "text/plain": [
              "year                            0.000000\n",
              "month                           0.000000\n",
              "day                             0.000000\n",
              "maximum temperature(C)          0.032227\n",
              "minimum temperature(C)          0.034280\n",
              "dry temperature(C)              0.150821\n",
              "relative humidity(%)            0.150751\n",
              "maximum wind direction(Deg.)    0.147925\n",
              "maximum wind speed(Kts.)        0.147747\n",
              "water evaporation tray(mm.)     0.051383\n",
              "precipitation(mm.)              0.144023\n",
              "station                         0.000000\n",
              "dtype: float64"
            ]
          },
          "metadata": {},
          "execution_count": 8
        }
      ]
    },
    {
      "cell_type": "code",
      "metadata": {
        "id": "CgrMgEEjE4t2"
      },
      "source": [
        "def rearrange(feature):\n",
        "    dst = data[['year', 'month', 'day']].drop_duplicates()\n",
        "    df = data.set_index(['station', 'year', 'month', 'day'])[feature]\n",
        "\n",
        "    station_names = data['station'].unique()\n",
        "    for station in station_names:\n",
        "        dst[station] = df.loc[station].to_numpy()\n",
        "\n",
        "    return dst\n",
        "\n",
        "def fill_NaN(df):\n",
        "    dst = df.copy()\n",
        "\n",
        "    for col in dst.columns:\n",
        "        stat, p = normaltest(dst[col].dropna())\n",
        "        alpha = 0.05\n",
        "        if p > alpha: \n",
        "            dst[col].fillna(dst[col].mean(), inplace=True)\n",
        "        else: \n",
        "            dst[col].fillna(dst[col].median(), inplace=True)\n",
        "    \n",
        "    return dst\n",
        "\n",
        "dct = dict()\n",
        "features = ['maximum temperature(C)',\n",
        "            'minimum temperature(C)', \n",
        "            'dry temperature(C)', \n",
        "            'relative humidity(%)', \n",
        "            'maximum wind direction(Deg.)', \n",
        "            'maximum wind speed(Kts.)',\n",
        "            'water evaporation tray(mm.)', \n",
        "            'precipitation(mm.)']\n",
        "\n",
        "for i,f in enumerate(features):\n",
        "    df = rearrange(f)\n",
        "    dct[i] = fill_NaN(df)"
      ],
      "execution_count": 18,
      "outputs": []
    },
    {
      "cell_type": "code",
      "metadata": {
        "id": "PkqPQfsuKybU"
      },
      "source": [
        "dct[0].to_csv(\"01_max_temperature.csv\")\n",
        "dct[1].to_csv(\"02_min_temperature.csv\")\n",
        "dct[2].to_csv(\"03_dry_temperature.csv\")\n",
        "dct[3].to_csv(\"04_reletive_humidity.csv\")\n",
        "dct[4].to_csv(\"05_max_wind_direction.csv\")\n",
        "dct[5].to_csv(\"06_max_wind_speed.csv\")\n",
        "dct[6].to_csv(\"07_water_eveporation_tray.csv\")\n",
        "dct[7].to_csv(\"08_precipitation.csv\")"
      ],
      "execution_count": 19,
      "outputs": []
    }
  ]
}